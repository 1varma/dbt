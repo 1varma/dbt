{
 "cells": [
  {
   "cell_type": "code",
   "execution_count": 2,
   "id": "eae36ae7",
   "metadata": {},
   "outputs": [],
   "source": [
    "import pandas as pd\n",
    "\n",
    "# Snowflake connector libraries\n",
    "import snowflake.connector as snow\n",
    "from snowflake.connector.pandas_tools import write_pandas"
   ]
  },
  {
   "cell_type": "code",
   "execution_count": 3,
   "id": "1c14526f",
   "metadata": {},
   "outputs": [],
   "source": [
    "#Module to create the snowflake connection and return the connection objects\n",
    "def create_connection():\n",
    "   conn = snow.connect(user=\"ASHISHVJ99\",\n",
    "   password=\"Tulasiranijuttu99\",\n",
    "   account=\"XWCUBLS-JEC56465\",\n",
    "   warehouse=\"DEMO_WH\",\n",
    "   database=\"PROD\",\n",
    "   schema=\"DBT_RAW\")\n",
    "   cursor = conn.cursor()\n",
    "   print('SQL Connection Created')\n",
    "   return cursor,conn"
   ]
  },
  {
   "cell_type": "code",
   "execution_count": 4,
   "id": "fca135af",
   "metadata": {},
   "outputs": [],
   "source": [
    "# Module to truncate the table if exists. This will ensure duplicate load doesn't happen\n",
    "def truncate_table():\n",
    "   cur,conn=create_connection()\n",
    "   sql_titles = \"TRUNCATE TABLE IF EXISTS TITLES_RAW\"\n",
    "   sql_credits = \"TRUNCATE TABLE IF EXISTS CREDITS_RAW\"\n",
    "   cur.execute(sql_titles)\n",
    "   cur.execute(sql_credits)\n",
    "   print('Tables truncated')"
   ]
  },
  {
   "cell_type": "code",
   "execution_count": 7,
   "id": "f03e7701",
   "metadata": {},
   "outputs": [],
   "source": [
    "#Module to read csv file and load data in Snowflake. Table is created dynamically\n",
    "def load_data():\n",
    "   cur,conn=create_connection()\n",
    "   titles_file = r\"titles.csv\" # <- Replace with your path.\n",
    "   titles_delimiter = \",\" # Replace if you're using a different delimiter.\n",
    "   credits_file=r\"credits.csv\"\n",
    "   credits_delimiter=\",\"\n",
    "\n",
    "   titles_df = pd.read_csv(titles_file, sep = titles_delimiter)\n",
    "   print(\"Titles file read\")\n",
    "   credits_df = pd.read_csv(credits_file, sep = titles_delimiter)\n",
    "   print(\"Credits file read\")\n",
    "\n",
    "   write_pandas(conn, titles_df, \"TITLES\",auto_create_table=True)\n",
    "   print('Titles file loaded')\n",
    "   write_pandas(conn, credits_df, \"CREDITS\",auto_create_table=True)\n",
    "   print('Credits file loaded')\n",
    "\n",
    "   cur = conn.cursor()\n",
    "\n",
    "\n",
    "   # Close your cursor and your connection.\n",
    "   cur.close()\n",
    "   conn.close()"
   ]
  },
  {
   "cell_type": "code",
   "execution_count": 8,
   "id": "b10a4b40",
   "metadata": {},
   "outputs": [
    {
     "name": "stdout",
     "output_type": "stream",
     "text": [
      "Starting Script\n",
      "SQL Connection Created\n",
      "Tables truncated\n",
      "SQL Connection Created\n",
      "Titles file read\n",
      "Credits file read\n"
     ]
    },
    {
     "ename": "MissingDependencyError",
     "evalue": "Missing optional dependency: pandas",
     "output_type": "error",
     "traceback": [
      "\u001b[1;31m---------------------------------------------------------------------------\u001b[0m",
      "\u001b[1;31mMissingDependencyError\u001b[0m                    Traceback (most recent call last)",
      "Cell \u001b[1;32mIn[8], line 3\u001b[0m\n\u001b[0;32m      1\u001b[0m \u001b[38;5;28mprint\u001b[39m(\u001b[38;5;124m\"\u001b[39m\u001b[38;5;124mStarting Script\u001b[39m\u001b[38;5;124m\"\u001b[39m)\n\u001b[0;32m      2\u001b[0m truncate_table()\n\u001b[1;32m----> 3\u001b[0m \u001b[43mload_data\u001b[49m\u001b[43m(\u001b[49m\u001b[43m)\u001b[49m\n",
      "Cell \u001b[1;32mIn[7], line 14\u001b[0m, in \u001b[0;36mload_data\u001b[1;34m()\u001b[0m\n\u001b[0;32m     11\u001b[0m credits_df \u001b[38;5;241m=\u001b[39m pd\u001b[38;5;241m.\u001b[39mread_csv(credits_file, sep \u001b[38;5;241m=\u001b[39m titles_delimiter)\n\u001b[0;32m     12\u001b[0m \u001b[38;5;28mprint\u001b[39m(\u001b[38;5;124m\"\u001b[39m\u001b[38;5;124mCredits file read\u001b[39m\u001b[38;5;124m\"\u001b[39m)\n\u001b[1;32m---> 14\u001b[0m \u001b[43mwrite_pandas\u001b[49m\u001b[43m(\u001b[49m\u001b[43mconn\u001b[49m\u001b[43m,\u001b[49m\u001b[43m \u001b[49m\u001b[43mtitles_df\u001b[49m\u001b[43m,\u001b[49m\u001b[43m \u001b[49m\u001b[38;5;124;43m\"\u001b[39;49m\u001b[38;5;124;43mTITLES\u001b[39;49m\u001b[38;5;124;43m\"\u001b[39;49m\u001b[43m,\u001b[49m\u001b[43mauto_create_table\u001b[49m\u001b[38;5;241;43m=\u001b[39;49m\u001b[38;5;28;43;01mTrue\u001b[39;49;00m\u001b[43m)\u001b[49m\n\u001b[0;32m     15\u001b[0m \u001b[38;5;28mprint\u001b[39m(\u001b[38;5;124m'\u001b[39m\u001b[38;5;124mTitles file loaded\u001b[39m\u001b[38;5;124m'\u001b[39m)\n\u001b[0;32m     16\u001b[0m write_pandas(conn, credits_df, \u001b[38;5;124m\"\u001b[39m\u001b[38;5;124mCREDITS\u001b[39m\u001b[38;5;124m\"\u001b[39m,auto_create_table\u001b[38;5;241m=\u001b[39m\u001b[38;5;28;01mTrue\u001b[39;00m)\n",
      "File \u001b[1;32mc:\\Users\\astar\\OneDrive\\Desktop\\dbt\\test-dbt-install\\lib\\site-packages\\snowflake\\connector\\pandas_tools.py:393\u001b[0m, in \u001b[0;36mwrite_pandas\u001b[1;34m(conn, df, table_name, database, schema, chunk_size, compression, on_error, parallel, quote_identifiers, auto_create_table, create_temp_table, overwrite, table_type, use_logical_type, iceberg_config, bulk_upload_chunks, **kwargs)\u001b[0m\n\u001b[0;32m    389\u001b[0m \u001b[38;5;28;01mif\u001b[39;00m chunk_size \u001b[38;5;129;01mis\u001b[39;00m \u001b[38;5;28;01mNone\u001b[39;00m:\n\u001b[0;32m    390\u001b[0m     chunk_size \u001b[38;5;241m=\u001b[39m \u001b[38;5;28mlen\u001b[39m(df)\n\u001b[0;32m    392\u001b[0m \u001b[38;5;28;01mif\u001b[39;00m \u001b[38;5;129;01mnot\u001b[39;00m (\n\u001b[1;32m--> 393\u001b[0m     \u001b[38;5;28misinstance\u001b[39m(df\u001b[38;5;241m.\u001b[39mindex, \u001b[43mpandas\u001b[49m\u001b[38;5;241;43m.\u001b[39;49m\u001b[43mRangeIndex\u001b[49m)\n\u001b[0;32m    394\u001b[0m     \u001b[38;5;129;01mand\u001b[39;00m \u001b[38;5;241m1\u001b[39m \u001b[38;5;241m==\u001b[39m df\u001b[38;5;241m.\u001b[39mindex\u001b[38;5;241m.\u001b[39mstep\n\u001b[0;32m    395\u001b[0m     \u001b[38;5;129;01mand\u001b[39;00m \u001b[38;5;241m0\u001b[39m \u001b[38;5;241m==\u001b[39m df\u001b[38;5;241m.\u001b[39mindex\u001b[38;5;241m.\u001b[39mstart\n\u001b[0;32m    396\u001b[0m ):\n\u001b[0;32m    397\u001b[0m     warnings\u001b[38;5;241m.\u001b[39mwarn(\n\u001b[0;32m    398\u001b[0m         \u001b[38;5;124mf\u001b[39m\u001b[38;5;124m\"\u001b[39m\u001b[38;5;124mPandas Dataframe has non-standard index of type \u001b[39m\u001b[38;5;132;01m{\u001b[39;00m\u001b[38;5;28mstr\u001b[39m(\u001b[38;5;28mtype\u001b[39m(df\u001b[38;5;241m.\u001b[39mindex))\u001b[38;5;132;01m}\u001b[39;00m\u001b[38;5;124m which will not be written.\u001b[39m\u001b[38;5;124m\"\u001b[39m\n\u001b[0;32m    399\u001b[0m         \u001b[38;5;124mf\u001b[39m\u001b[38;5;124m\"\u001b[39m\u001b[38;5;124m Consider changing the index to pd.RangeIndex(start=0,...,step=1) or \u001b[39m\u001b[38;5;124m\"\u001b[39m\n\u001b[1;32m   (...)\u001b[0m\n\u001b[0;32m    402\u001b[0m         stacklevel\u001b[38;5;241m=\u001b[39m\u001b[38;5;241m2\u001b[39m,\n\u001b[0;32m    403\u001b[0m     )\n\u001b[0;32m    405\u001b[0m \u001b[38;5;66;03m# use_logical_type should be True when dataframe contains datetimes with timezone.\u001b[39;00m\n\u001b[0;32m    406\u001b[0m \u001b[38;5;66;03m# https://github.com/snowflakedb/snowflake-connector-python/issues/1687\u001b[39;00m\n",
      "File \u001b[1;32mc:\\Users\\astar\\OneDrive\\Desktop\\dbt\\test-dbt-install\\lib\\site-packages\\snowflake\\connector\\options.py:36\u001b[0m, in \u001b[0;36mMissingOptionalDependency.__getattr__\u001b[1;34m(self, item)\u001b[0m\n\u001b[0;32m     35\u001b[0m \u001b[38;5;28;01mdef\u001b[39;00m\u001b[38;5;250m \u001b[39m\u001b[38;5;21m__getattr__\u001b[39m(\u001b[38;5;28mself\u001b[39m, item):\n\u001b[1;32m---> 36\u001b[0m     \u001b[38;5;28;01mraise\u001b[39;00m errors\u001b[38;5;241m.\u001b[39mMissingDependencyError(\u001b[38;5;28mself\u001b[39m\u001b[38;5;241m.\u001b[39m_dep_name)\n",
      "\u001b[1;31mMissingDependencyError\u001b[0m: Missing optional dependency: pandas"
     ]
    }
   ],
   "source": [
    "print(\"Starting Script\")\n",
    "truncate_table()\n",
    "load_data()"
   ]
  },
  {
   "cell_type": "code",
   "execution_count": null,
   "id": "c7da2c99",
   "metadata": {},
   "outputs": [],
   "source": [
    "!pip uninstall snowflake-connector-python\n"
   ]
  },
  {
   "cell_type": "code",
   "execution_count": null,
   "id": "0eb2cc9b",
   "metadata": {},
   "outputs": [],
   "source": [
    "!pip install dbt-snowflake[all]"
   ]
  }
 ],
 "metadata": {
  "kernelspec": {
   "display_name": "test-dbt-install",
   "language": "python",
   "name": "python3"
  },
  "language_info": {
   "codemirror_mode": {
    "name": "ipython",
    "version": 3
   },
   "file_extension": ".py",
   "mimetype": "text/x-python",
   "name": "python",
   "nbconvert_exporter": "python",
   "pygments_lexer": "ipython3",
   "version": "3.10.0"
  }
 },
 "nbformat": 4,
 "nbformat_minor": 5
}
